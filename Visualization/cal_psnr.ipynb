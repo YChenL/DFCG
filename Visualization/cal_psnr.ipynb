{
 "cells": [
  {
   "cell_type": "code",
   "execution_count": 1,
   "id": "ccf8523a-9a81-4720-bd09-d9a179c52ea3",
   "metadata": {},
   "outputs": [],
   "source": [
    "import numpy as np\n",
    "import cv2\n",
    "import matplotlib.pyplot as plt\n",
    "import tensorflow as tf\n",
    "import os\n",
    "\n",
    "import torch \n",
    "import lpips\n",
    " \n",
    "import image_similarity_measures\n",
    "from image_similarity_measures.quality_metrics import rmse, fsim, issm, sre, uiq"
   ]
  },
  {
   "cell_type": "code",
   "execution_count": 1,
   "id": "2d739cff-81f8-4f70-ba48-6eed82486f41",
   "metadata": {},
   "outputs": [],
   "source": [
    "def readimg(path):\n",
    "    img=cv2.imread(path)\n",
    "    img=img/255.\n",
    "    img=img.astype('float32')\n",
    "    return img\n",
    "\n",
    "def PSNRLossnp(y_true,y_pred):\n",
    "\t\treturn 10* np.log(255*2 / (np.mean(np.square(y_pred - y_true))))\n",
    " \n",
    " \n",
    "def SSIMnp(y_true , y_pred):\n",
    "    u_true = np.mean(y_true)\n",
    "    u_pred = np.mean(y_pred)\n",
    "    var_true = np.var(y_true)\n",
    "    var_pred = np.var(y_pred)\n",
    "    std_true = np.sqrt(var_true)\n",
    "    std_pred = np.sqrt(var_pred)\n",
    "    c1 = np.square(0.01*7)\n",
    "    c2 = np.square(0.03*7)\n",
    "    ssim = (2 * u_true * u_pred + c1) * (2 * std_pred * std_true + c2)\n",
    "    denom = (u_true ** 2 + u_pred ** 2 + c1) * (var_pred + var_true + c2)\n",
    "    return ssim / denom\n",
    " \n",
    "def mae(img1, img2):\n",
    "    mse = np.sqrt(np.mean((img1/255. - img2/255.)**2))\n",
    "    return mse   "
   ]
  },
  {
   "cell_type": "code",
   "execution_count": 3,
   "id": "26f09700-19f7-4ff4-b7ff-47cf450fca84",
   "metadata": {},
   "outputs": [],
   "source": [
    "path1 = \"D:/dataset/pix2pix3/org_img/\"\n",
    "path2 = \"E:/datasets/samescale_nocol_nograd/rem_pix3/\"\n",
    "path3 = \"E:/datasets/samescale_nocal_grad/rem_pix3/\"\n",
    "path4 = \"E:/datasets/image/color_grad/rem_ep50/\"\n",
    "path5 = \"E:/datasets/samescale_color_grad(2_term)/rem_pix3/\"\n",
    "path6 = \"E:/datasets/samescale_col_grad/rem_pix3/\"\n",
    "path7 = \"E:/datasets/samescale_col_nograd/rem_pix3/\"\n",
    "path8 = \"E:/datasets/samescale_cal_grad_noiden_nocyc/rem_pix3/\"\n",
    "path9 = \"E:/datasets/samescale_nocol_grad_iden_nocyc/rem_pix3/\"\n",
    "path10 = \"E:/datasets/samescale_col_grad_iden_nocyc/rem_pix3/\"\n",
    "path11 = \"E:/datasets/samescale_col_grad_iden_nocyc/rem_pix3_25ep/\"\n",
    "path12 = \"E:/datasets/samescale_col_grad_iden_nocyc/rem_pix3_45ep/\"\n",
    "path13 = \"E:/datasets/samescale_col_grad_iden_nocyc/rem_pix3_50ep/\"\n",
    "path14 = \"E:/datasets/samescale_col_grad_iden_nocyc/rem_pix3_55ep/\"\n",
    "path15 = \"E:/datasets/samescale_col_grad_iden_nocyc/rem_pix3_60ep/\"\n",
    "path16 = \"E:/datasets/samescale_col_grad(2_term)_iden_cyc/rem_pix3/\"\n",
    "\n",
    "ENF_list = os.listdir(path1)\n",
    "ENF_list.sort(key=lambda x:int(x[:-4]))"
   ]
  },
  {
   "cell_type": "code",
   "execution_count": 4,
   "id": "94aad6e6-bfdf-49f2-81f9-51e2214e37a8",
   "metadata": {},
   "outputs": [
    {
     "data": {
      "text/plain": [
       "4000"
      ]
     },
     "execution_count": 4,
     "metadata": {},
     "output_type": "execute_result"
    }
   ],
   "source": [
    "ENF_list = os.listdir(path1)\n",
    "ENF_list.sort(key=lambda x:int(x[:-4]))\n",
    "len(ENF_list)"
   ]
  },
  {
   "cell_type": "code",
   "execution_count": 5,
   "id": "a3abd1f3-872b-428d-9a84-5e1cce923c9e",
   "metadata": {},
   "outputs": [],
   "source": [
    "PSNR_cyc = []\n",
    "SSIM_cyc = []\n",
    "for i in range(1726):\n",
    "    org_img=readimg(path1+ENF_list[i])\n",
    "    rem_img=readimg(path2+ENF_list[i])\n",
    "    psnr = tf.image.psnr(org_img, rem_img, 1)\n",
    "    ssim = tf.image.ssim(org_img, rem_img, 1)\n",
    "    PSNR_cyc.append(psnr)\n",
    "    SSIM_cyc.append(ssim)"
   ]
  },
  {
   "cell_type": "code",
   "execution_count": 6,
   "id": "4cb9c894-55d4-435e-bc79-4d5d954abbab",
   "metadata": {},
   "outputs": [
    {
     "name": "stdout",
     "output_type": "stream",
     "text": [
      "26.230646 0.90795314\n"
     ]
    }
   ],
   "source": [
    "print(np.mean(PSNR_cyc), np.mean(SSIM_cyc))"
   ]
  },
  {
   "cell_type": "code",
   "execution_count": 7,
   "id": "d475c3e5-5306-4e2e-a801-07e5f0ddb3cf",
   "metadata": {},
   "outputs": [],
   "source": [
    "PSNR_ours = []\n",
    "SSIM_ours = []\n",
    "for i in range(4000):\n",
    "    org_img=readimg(path1+ENF_list[i])\n",
    "    rem_img=readimg(path3+ENF_list[i])\n",
    "    psnr = tf.image.psnr(org_img, rem_img, 1)\n",
    "    ssim = tf.image.ssim(org_img, rem_img, 1)\n",
    "    PSNR_ours.append(psnr)\n",
    "    SSIM_ours.append(ssim)"
   ]
  },
  {
   "cell_type": "code",
   "execution_count": 8,
   "id": "74a83c35-ec29-41a6-8252-196c4fc7e515",
   "metadata": {},
   "outputs": [
    {
     "name": "stdout",
     "output_type": "stream",
     "text": [
      "27.012362 0.9151776\n"
     ]
    }
   ],
   "source": [
    "print(np.mean(PSNR_ours), np.mean(SSIM_ours))"
   ]
  },
  {
   "cell_type": "code",
   "execution_count": 7,
   "id": "facfd052-7005-4197-81f7-0e16ab8f6d08",
   "metadata": {},
   "outputs": [],
   "source": [
    "PSNR_pec = []\n",
    "SSIM_pec = []\n",
    "for i in range(1726):\n",
    "    org_img=readimg(path1+ENF_list[i])\n",
    "    rem_img=readimg(path4+ENF_list[i])\n",
    "    psnr = tf.image.psnr(org_img, rem_img, 1)\n",
    "    ssim = tf.image.ssim(org_img, rem_img, 1)\n",
    "    PSNR_pec.append(psnr)\n",
    "    SSIM_pec.append(ssim)"
   ]
  },
  {
   "cell_type": "code",
   "execution_count": 8,
   "id": "a0487558-ed7f-44a2-a5f1-50910d819f7c",
   "metadata": {},
   "outputs": [
    {
     "name": "stdout",
     "output_type": "stream",
     "text": [
      "25.921192 0.9045745\n"
     ]
    }
   ],
   "source": [
    "print(np.mean(PSNR_pec), np.mean(SSIM_pec))"
   ]
  },
  {
   "cell_type": "code",
   "execution_count": 8,
   "id": "be1ec3ad-d5ac-4da4-b8b4-42f63b4c693f",
   "metadata": {
    "tags": []
   },
   "outputs": [],
   "source": [
    "PSNR_pec = []\n",
    "SSIM_pec = []\n",
    "for i in range(1726):\n",
    "    org_img=readimg(path1+ENF_list[i])\n",
    "    rem_img=readimg(path5+ENF_list[i])\n",
    "    psnr = tf.image.psnr(org_img, rem_img, 1)\n",
    "    ssim = tf.image.ssim(org_img, rem_img, 1)\n",
    "    PSNR_pec.append(psnr)\n",
    "    SSIM_pec.append(ssim)"
   ]
  },
  {
   "cell_type": "code",
   "execution_count": 9,
   "id": "3659c0da-20b0-4d91-9035-258769ed5fa2",
   "metadata": {},
   "outputs": [
    {
     "name": "stdout",
     "output_type": "stream",
     "text": [
      "24.721167 0.9129685\n"
     ]
    }
   ],
   "source": [
    "print(np.mean(PSNR_pec), np.mean(SSIM_pec))"
   ]
  },
  {
   "cell_type": "code",
   "execution_count": 10,
   "id": "bf2dc6d4-791f-43ea-ba32-3310fd746ab2",
   "metadata": {},
   "outputs": [],
   "source": [
    "PSNR_pec = []\n",
    "SSIM_pec = []\n",
    "for i in range(1726):\n",
    "    org_img=readimg(path1+ENF_list[i])\n",
    "    rem_img=readimg(path6+ENF_list[i])\n",
    "    psnr = tf.image.psnr(org_img, rem_img, 1)\n",
    "    ssim = tf.image.ssim(org_img, rem_img, 1)\n",
    "    PSNR_pec.append(psnr)\n",
    "    SSIM_pec.append(ssim)"
   ]
  },
  {
   "cell_type": "code",
   "execution_count": 11,
   "id": "89347339-7a62-442f-ab51-039cc1ca44d6",
   "metadata": {},
   "outputs": [
    {
     "name": "stdout",
     "output_type": "stream",
     "text": [
      "26.207191 0.94479185\n"
     ]
    }
   ],
   "source": [
    "print(np.mean(PSNR_pec), np.mean(SSIM_pec))"
   ]
  },
  {
   "cell_type": "code",
   "execution_count": 6,
   "id": "0f927672-2616-4f50-b4b5-4dedd79c16d5",
   "metadata": {},
   "outputs": [],
   "source": [
    "PSNR_pec = []\n",
    "SSIM_pec = []\n",
    "for i in range(1726):\n",
    "    org_img=readimg(path1+ENF_list[i])\n",
    "    rem_img=readimg(path7+ENF_list[i])\n",
    "    psnr = tf.image.psnr(org_img, rem_img, 1)\n",
    "    ssim = tf.image.ssim(org_img, rem_img, 1)\n",
    "    PSNR_pec.append(psnr)\n",
    "    SSIM_pec.append(ssim)"
   ]
  },
  {
   "cell_type": "code",
   "execution_count": 7,
   "id": "6aa603f2-3d7e-4148-b531-3ffb5313b463",
   "metadata": {},
   "outputs": [
    {
     "name": "stdout",
     "output_type": "stream",
     "text": [
      "23.96135 0.9071288\n"
     ]
    }
   ],
   "source": [
    "print(np.mean(PSNR_pec), np.mean(SSIM_pec))"
   ]
  },
  {
   "cell_type": "code",
   "execution_count": 5,
   "id": "64949756-a074-4627-a39d-4db7682466ce",
   "metadata": {},
   "outputs": [],
   "source": [
    "PSNR_pec = []\n",
    "SSIM_pec = []\n",
    "for i in range(1726):\n",
    "    org_img=readimg(path1+ENF_list[i])\n",
    "    rem_img=readimg(path8+ENF_list[i])\n",
    "    psnr = tf.image.psnr(org_img, rem_img, 1)\n",
    "    ssim = tf.image.ssim(org_img, rem_img, 1)\n",
    "    PSNR_pec.append(psnr)\n",
    "    SSIM_pec.append(ssim)"
   ]
  },
  {
   "cell_type": "code",
   "execution_count": 6,
   "id": "4cac7db3-194d-4ffe-89bf-7daa3d5ece23",
   "metadata": {},
   "outputs": [
    {
     "name": "stdout",
     "output_type": "stream",
     "text": [
      "22.239292 0.9094359\n"
     ]
    }
   ],
   "source": [
    "print(np.mean(PSNR_pec), np.mean(SSIM_pec))"
   ]
  },
  {
   "cell_type": "code",
   "execution_count": 6,
   "id": "e24e75ce-cdb7-4d09-a28c-b08510bf9749",
   "metadata": {},
   "outputs": [],
   "source": [
    "PSNR_pec = []\n",
    "SSIM_pec = []\n",
    "for i in range(1726):\n",
    "    org_img=readimg(path1+ENF_list[i])\n",
    "    rem_img=readimg(path9+ENF_list[i])\n",
    "    psnr = tf.image.psnr(org_img, rem_img, 1)\n",
    "    ssim = tf.image.ssim(org_img, rem_img, 1)\n",
    "    PSNR_pec.append(psnr)\n",
    "    SSIM_pec.append(ssim)"
   ]
  },
  {
   "cell_type": "code",
   "execution_count": 7,
   "id": "c4b9195a-a68a-4947-b2c0-26ceff52e49c",
   "metadata": {},
   "outputs": [
    {
     "name": "stdout",
     "output_type": "stream",
     "text": [
      "25.933992 0.9430353\n"
     ]
    }
   ],
   "source": [
    "print(np.mean(PSNR_pec), np.mean(SSIM_pec))"
   ]
  },
  {
   "cell_type": "code",
   "execution_count": 5,
   "id": "d6f40705-fe4b-47b6-a123-d827d8a5e0fc",
   "metadata": {},
   "outputs": [],
   "source": [
    "PSNR_pec = []\n",
    "SSIM_pec = []\n",
    "for i in range(1726):\n",
    "    org_img=readimg(path1+ENF_list[i])\n",
    "    rem_img=readimg(path10+ENF_list[i])\n",
    "    psnr = tf.image.psnr(org_img, rem_img, 1)\n",
    "    ssim = tf.image.ssim(org_img, rem_img, 1)\n",
    "    PSNR_pec.append(psnr)\n",
    "    SSIM_pec.append(ssim)"
   ]
  },
  {
   "cell_type": "code",
   "execution_count": 6,
   "id": "99ff112e-99f6-4f65-848a-d7e97f91a3bc",
   "metadata": {},
   "outputs": [
    {
     "name": "stdout",
     "output_type": "stream",
     "text": [
      "25.561428 0.9379309\n"
     ]
    }
   ],
   "source": [
    "print(np.mean(PSNR_pec), np.mean(SSIM_pec))"
   ]
  },
  {
   "cell_type": "code",
   "execution_count": 7,
   "id": "d4fae4d5-392a-4eeb-9978-052068a93b35",
   "metadata": {},
   "outputs": [],
   "source": [
    "PSNR_pec = []\n",
    "SSIM_pec = []\n",
    "for i in range(1726):\n",
    "    org_img=readimg(path1+ENF_list[i])\n",
    "    rem_img=readimg(path11+ENF_list[i])\n",
    "    psnr = tf.image.psnr(org_img, rem_img, 1)\n",
    "    ssim = tf.image.ssim(org_img, rem_img, 1)\n",
    "    PSNR_pec.append(psnr)\n",
    "    SSIM_pec.append(ssim)"
   ]
  },
  {
   "cell_type": "code",
   "execution_count": 8,
   "id": "57c2fcaf-043c-4acc-a1ce-fa193d9cc963",
   "metadata": {},
   "outputs": [
    {
     "name": "stdout",
     "output_type": "stream",
     "text": [
      "24.725758 0.93334776\n"
     ]
    }
   ],
   "source": [
    "print(np.mean(PSNR_pec), np.mean(SSIM_pec))"
   ]
  },
  {
   "cell_type": "code",
   "execution_count": 5,
   "id": "d5a4cb24-06fe-4afb-afa7-8c982607cef5",
   "metadata": {},
   "outputs": [],
   "source": [
    "PSNR_pec = []\n",
    "SSIM_pec = []\n",
    "for i in range(1726):\n",
    "    org_img=readimg(path1+ENF_list[i])\n",
    "    rem_img=readimg(path12+ENF_list[i])\n",
    "    psnr = tf.image.psnr(org_img, rem_img, 1)\n",
    "    ssim = tf.image.ssim(org_img, rem_img, 1)\n",
    "    PSNR_pec.append(psnr)\n",
    "    SSIM_pec.append(ssim)"
   ]
  },
  {
   "cell_type": "code",
   "execution_count": 6,
   "id": "48660330-8161-48bf-b252-654cb615f5c8",
   "metadata": {},
   "outputs": [
    {
     "name": "stdout",
     "output_type": "stream",
     "text": [
      "25.840078 0.94328874\n"
     ]
    }
   ],
   "source": [
    "print(np.mean(PSNR_pec), np.mean(SSIM_pec))"
   ]
  },
  {
   "cell_type": "code",
   "execution_count": 7,
   "id": "e27428bc-fa25-4625-968a-6fc953d7433f",
   "metadata": {},
   "outputs": [],
   "source": [
    "PSNR_pec = []\n",
    "SSIM_pec = []\n",
    "for i in range(1726):\n",
    "    org_img=readimg(path1+ENF_list[i])\n",
    "    rem_img=readimg(path13+ENF_list[i])\n",
    "    psnr = tf.image.psnr(org_img, rem_img, 1)\n",
    "    ssim = tf.image.ssim(org_img, rem_img, 1)\n",
    "    PSNR_pec.append(psnr)\n",
    "    SSIM_pec.append(ssim)"
   ]
  },
  {
   "cell_type": "code",
   "execution_count": 8,
   "id": "f5a7d7a7-6fe1-467e-9d60-e617537692bd",
   "metadata": {},
   "outputs": [
    {
     "name": "stdout",
     "output_type": "stream",
     "text": [
      "26.10919 0.9410215\n"
     ]
    }
   ],
   "source": [
    "print(np.mean(PSNR_pec), np.mean(SSIM_pec))"
   ]
  },
  {
   "cell_type": "code",
   "execution_count": 5,
   "id": "a77de58e-c48d-4926-a8d4-937110ce79c0",
   "metadata": {},
   "outputs": [],
   "source": [
    "PSNR_pec = []\n",
    "SSIM_pec = []\n",
    "for i in range(1726):\n",
    "    org_img=readimg(path1+ENF_list[i])\n",
    "    rem_img=readimg(path14+ENF_list[i])\n",
    "    psnr = tf.image.psnr(org_img, rem_img, 1)\n",
    "    ssim = tf.image.ssim(org_img, rem_img, 1)\n",
    "    PSNR_pec.append(psnr)\n",
    "    SSIM_pec.append(ssim)"
   ]
  },
  {
   "cell_type": "code",
   "execution_count": 6,
   "id": "cf454d32-8f12-40f4-bc16-a528d1c48c1c",
   "metadata": {},
   "outputs": [
    {
     "name": "stdout",
     "output_type": "stream",
     "text": [
      "25.65509 0.93993545\n"
     ]
    }
   ],
   "source": [
    "print(np.mean(PSNR_pec), np.mean(SSIM_pec))"
   ]
  },
  {
   "cell_type": "code",
   "execution_count": 7,
   "id": "6a87ba92-a1be-4a5a-a394-3316c24bb9ce",
   "metadata": {},
   "outputs": [],
   "source": [
    "PSNR_pec = []\n",
    "SSIM_pec = []\n",
    "for i in range(1726):\n",
    "    org_img=readimg(path1+ENF_list[i])\n",
    "    rem_img=readimg(path15+ENF_list[i])\n",
    "    psnr = tf.image.psnr(org_img, rem_img, 1)\n",
    "    ssim = tf.image.ssim(org_img, rem_img, 1)\n",
    "    PSNR_pec.append(psnr)\n",
    "    SSIM_pec.append(ssim)"
   ]
  },
  {
   "cell_type": "code",
   "execution_count": 8,
   "id": "30fbe821-ca5d-428e-8ccc-03bed5dc003c",
   "metadata": {},
   "outputs": [
    {
     "name": "stdout",
     "output_type": "stream",
     "text": [
      "26.63317 0.9452498\n"
     ]
    }
   ],
   "source": [
    "print(np.mean(PSNR_pec), np.mean(SSIM_pec))"
   ]
  },
  {
   "cell_type": "code",
   "execution_count": 4,
   "id": "446996a4-6ae9-4e12-97ff-adbe3261eced",
   "metadata": {},
   "outputs": [],
   "source": [
    "PSNR_pec = []\n",
    "SSIM_pec = []\n",
    "for i in range(1726):\n",
    "    org_img=readimg(path1+ENF_list[i])\n",
    "    rem_img=readimg(path16+ENF_list[i])\n",
    "    psnr = tf.image.psnr(org_img, rem_img, 1)\n",
    "    ssim = tf.image.ssim(org_img, rem_img, 1)\n",
    "    PSNR_pec.append(psnr)\n",
    "    SSIM_pec.append(ssim)"
   ]
  },
  {
   "cell_type": "code",
   "execution_count": 5,
   "id": "86f3111f-4d62-4d28-99f7-13cbb7192720",
   "metadata": {},
   "outputs": [
    {
     "name": "stdout",
     "output_type": "stream",
     "text": [
      "25.45959 0.93467826\n"
     ]
    }
   ],
   "source": [
    "print(np.mean(PSNR_pec), np.mean(SSIM_pec))"
   ]
  },
  {
   "cell_type": "code",
   "execution_count": null,
   "id": "efdff7b3-5d16-4f79-8c8e-07774b0e35c0",
   "metadata": {},
   "outputs": [],
   "source": []
  }
 ],
 "metadata": {
  "kernelspec": {
   "display_name": "Python 3 (ipykernel)",
   "language": "python",
   "name": "python3"
  },
  "language_info": {
   "codemirror_mode": {
    "name": "ipython",
    "version": 3
   },
   "file_extension": ".py",
   "mimetype": "text/x-python",
   "name": "python",
   "nbconvert_exporter": "python",
   "pygments_lexer": "ipython3",
   "version": "3.9.0"
  }
 },
 "nbformat": 4,
 "nbformat_minor": 5
}
